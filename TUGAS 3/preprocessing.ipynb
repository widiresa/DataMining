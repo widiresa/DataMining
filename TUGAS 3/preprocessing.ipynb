{
  "nbformat": 4,
  "nbformat_minor": 0,
  "metadata": {
    "colab": {
      "name": "preprocessing.ipynb",
      "provenance": [],
      "collapsed_sections": []
    },
    "kernelspec": {
      "name": "python3",
      "display_name": "Python 3"
    },
    "language_info": {
      "name": "python"
    }
  },
  "cells": [
    {
      "cell_type": "code",
      "metadata": {
        "id": "BAUcu6Kj-9w5"
      },
      "source": [
        "import numpy as np\n",
        "import matplotlib.pyplot as plt\n",
        "import pandas as pd"
      ],
      "execution_count": 59,
      "outputs": []
    },
    {
      "cell_type": "code",
      "metadata": {
        "id": "Px3KJLJR_usX"
      },
      "source": [
        "dataset = pd.read_csv('Data.csv')\n",
        "x = dataset.iloc[:, :-1].values\n",
        "y = dataset.iloc[:, -1].values"
      ],
      "execution_count": 60,
      "outputs": []
    },
    {
      "cell_type": "code",
      "metadata": {
        "colab": {
          "base_uri": "https://localhost:8080/"
        },
        "id": "XAhRs0YEAI7X",
        "outputId": "69fb1293-a2eb-41d2-9e37-7cd5bd1d819c"
      },
      "source": [
        "print(x)"
      ],
      "execution_count": 61,
      "outputs": [
        {
          "output_type": "stream",
          "text": [
            "[['Anggur' 30.0 45000.0]\n",
            " ['Apel' 70.0 45000.0]\n",
            " ['Semangka' 40.0 65000.0]\n",
            " ['Pisang' 50.0 60000.0]\n",
            " ['Apel' 60.0 nan]\n",
            " ['Pisang' 45.0 60000.0]\n",
            " ['Semangka' nan 55000.0]\n",
            " ['Anggur' 65.0 80000.0]\n",
            " ['Pisang' 50.0 80000.0]\n",
            " ['Apel' 45.0 70000.0]]\n"
          ],
          "name": "stdout"
        }
      ]
    },
    {
      "cell_type": "code",
      "metadata": {
        "colab": {
          "base_uri": "https://localhost:8080/"
        },
        "id": "_oEeH7jVANyi",
        "outputId": "1ec06790-2fc9-4290-e3b6-a3c7742685d4"
      },
      "source": [
        "print(y)"
      ],
      "execution_count": 62,
      "outputs": [
        {
          "output_type": "stream",
          "text": [
            "['No' 'Yes' 'No' 'No' 'Yes' 'Yes' 'No' 'Yes' 'No' 'Yes']\n"
          ],
          "name": "stdout"
        }
      ]
    },
    {
      "cell_type": "code",
      "metadata": {
        "id": "oug4A302AUNR"
      },
      "source": [
        "from sklearn.impute import SimpleImputer\n",
        "imputer = SimpleImputer(missing_values=np.nan, strategy='mean')\n",
        "imputer.fit(x[:, 1:3])\n",
        "x[:, 1:3] = imputer.transform(x[:, 1:3])"
      ],
      "execution_count": 63,
      "outputs": []
    },
    {
      "cell_type": "code",
      "metadata": {
        "colab": {
          "base_uri": "https://localhost:8080/"
        },
        "id": "2wz_XKriBvbD",
        "outputId": "f933ed93-a517-48cb-8a9e-1fe9c555dc63"
      },
      "source": [
        "print(x)"
      ],
      "execution_count": 64,
      "outputs": [
        {
          "output_type": "stream",
          "text": [
            "[['Anggur' 30.0 45000.0]\n",
            " ['Apel' 70.0 45000.0]\n",
            " ['Semangka' 40.0 65000.0]\n",
            " ['Pisang' 50.0 60000.0]\n",
            " ['Apel' 60.0 62222.22222222222]\n",
            " ['Pisang' 45.0 60000.0]\n",
            " ['Semangka' 50.55555555555556 55000.0]\n",
            " ['Anggur' 65.0 80000.0]\n",
            " ['Pisang' 50.0 80000.0]\n",
            " ['Apel' 45.0 70000.0]]\n"
          ],
          "name": "stdout"
        }
      ]
    },
    {
      "cell_type": "code",
      "metadata": {
        "id": "VDZ2I8DPBzIX"
      },
      "source": [
        "from sklearn.compose import ColumnTransformer\n",
        "from sklearn.preprocessing import OneHotEncoder\n",
        "ct = ColumnTransformer(transformers=[('encoder', OneHotEncoder(), [0])], remainder='passthrough')\n",
        "x = np.array(ct.fit_transform(x))"
      ],
      "execution_count": 65,
      "outputs": []
    },
    {
      "cell_type": "code",
      "metadata": {
        "colab": {
          "base_uri": "https://localhost:8080/"
        },
        "id": "C_Irl4x-GLQ_",
        "outputId": "06b012aa-3f19-4fe8-879f-bc2b277f7d6c"
      },
      "source": [
        "print(x)"
      ],
      "execution_count": 66,
      "outputs": [
        {
          "output_type": "stream",
          "text": [
            "[[1.0 0.0 0.0 0.0 30.0 45000.0]\n",
            " [0.0 1.0 0.0 0.0 70.0 45000.0]\n",
            " [0.0 0.0 0.0 1.0 40.0 65000.0]\n",
            " [0.0 0.0 1.0 0.0 50.0 60000.0]\n",
            " [0.0 1.0 0.0 0.0 60.0 62222.22222222222]\n",
            " [0.0 0.0 1.0 0.0 45.0 60000.0]\n",
            " [0.0 0.0 0.0 1.0 50.55555555555556 55000.0]\n",
            " [1.0 0.0 0.0 0.0 65.0 80000.0]\n",
            " [0.0 0.0 1.0 0.0 50.0 80000.0]\n",
            " [0.0 1.0 0.0 0.0 45.0 70000.0]]\n"
          ],
          "name": "stdout"
        }
      ]
    },
    {
      "cell_type": "code",
      "metadata": {
        "id": "s2GWodq3dht-"
      },
      "source": [
        "from sklearn.preprocessing import LabelEncoder\n",
        "le = LabelEncoder()\n",
        "y = le.fit_transform(y)"
      ],
      "execution_count": 67,
      "outputs": []
    },
    {
      "cell_type": "code",
      "metadata": {
        "colab": {
          "base_uri": "https://localhost:8080/"
        },
        "id": "Bp0FyddMeeF6",
        "outputId": "4bc757d5-8e11-4829-b0db-9dee4e6bf784"
      },
      "source": [
        "print(y)"
      ],
      "execution_count": 68,
      "outputs": [
        {
          "output_type": "stream",
          "text": [
            "[0 1 0 0 1 1 0 1 0 1]\n"
          ],
          "name": "stdout"
        }
      ]
    },
    {
      "cell_type": "code",
      "metadata": {
        "id": "mhIy9LRVegLy"
      },
      "source": [
        "from sklearn.model_selection import train_test_split\n",
        "x_train, x_test, y_train, y_test = train_test_split(x, y, test_size=0.2, random_state=1)"
      ],
      "execution_count": 69,
      "outputs": []
    },
    {
      "cell_type": "code",
      "metadata": {
        "colab": {
          "base_uri": "https://localhost:8080/"
        },
        "id": "EB0OMb2WfjxZ",
        "outputId": "ed06bbcb-e0d3-42d2-ecc4-4dcc44277d09"
      },
      "source": [
        "print(x_train)"
      ],
      "execution_count": 70,
      "outputs": [
        {
          "output_type": "stream",
          "text": [
            "[[0.0 0.0 0.0 1.0 50.55555555555556 55000.0]\n",
            " [0.0 1.0 0.0 0.0 60.0 62222.22222222222]\n",
            " [1.0 0.0 0.0 0.0 30.0 45000.0]\n",
            " [0.0 0.0 1.0 0.0 50.0 60000.0]\n",
            " [0.0 1.0 0.0 0.0 70.0 45000.0]\n",
            " [1.0 0.0 0.0 0.0 65.0 80000.0]\n",
            " [0.0 0.0 1.0 0.0 50.0 80000.0]\n",
            " [0.0 0.0 1.0 0.0 45.0 60000.0]]\n"
          ],
          "name": "stdout"
        }
      ]
    },
    {
      "cell_type": "code",
      "metadata": {
        "colab": {
          "base_uri": "https://localhost:8080/"
        },
        "id": "xksOE46EfwvT",
        "outputId": "9074f032-28d7-4173-a292-db9d82dd8fdd"
      },
      "source": [
        "print(x_test)"
      ],
      "execution_count": 71,
      "outputs": [
        {
          "output_type": "stream",
          "text": [
            "[[0.0 0.0 0.0 1.0 40.0 65000.0]\n",
            " [0.0 1.0 0.0 0.0 45.0 70000.0]]\n"
          ],
          "name": "stdout"
        }
      ]
    },
    {
      "cell_type": "code",
      "metadata": {
        "colab": {
          "base_uri": "https://localhost:8080/"
        },
        "id": "tLvWYBeEf2al",
        "outputId": "f50e3ef2-8cf0-4ba1-d8de-752984849acb"
      },
      "source": [
        "print(y_train)"
      ],
      "execution_count": 72,
      "outputs": [
        {
          "output_type": "stream",
          "text": [
            "[0 1 0 0 1 1 0 1]\n"
          ],
          "name": "stdout"
        }
      ]
    },
    {
      "cell_type": "code",
      "metadata": {
        "colab": {
          "base_uri": "https://localhost:8080/"
        },
        "id": "guowAcWPf8JU",
        "outputId": "906afd26-635b-4dba-9e6b-0100e9f50f4c"
      },
      "source": [
        "print(y_test)"
      ],
      "execution_count": 73,
      "outputs": [
        {
          "output_type": "stream",
          "text": [
            "[0 1]\n"
          ],
          "name": "stdout"
        }
      ]
    },
    {
      "cell_type": "code",
      "metadata": {
        "id": "Nb3xRwM3gEha"
      },
      "source": [
        "from sklearn.preprocessing import StandardScaler\n",
        "sc = StandardScaler()\n",
        "x_train[:, 3:] = sc.fit_transform(x_train[:, 3:])\n",
        "x_test[:, 3:] = sc.transform(x_test[:, 3:])"
      ],
      "execution_count": 74,
      "outputs": []
    },
    {
      "cell_type": "code",
      "metadata": {
        "colab": {
          "base_uri": "https://localhost:8080/"
        },
        "id": "acsGreDdgz2W",
        "outputId": "d4b2dfad-f58f-4f9c-97ff-9859c3f5ed47"
      },
      "source": [
        "print(x_train)"
      ],
      "execution_count": 75,
      "outputs": [
        {
          "output_type": "stream",
          "text": [
            "[[0.0 0.0 0.0 2.6457513110645903 -0.17194112402745307 -0.4678599812967005]\n",
            " [0.0 1.0 0.0 -0.3779644730092272 0.6344034576185349 0.10458046640749719]\n",
            " [1.0 0.0 0.0 -0.3779644730092272 -1.926926389962839 -1.2604698319640515]\n",
            " [0.0 0.0 1.0 -0.3779644730092272 -0.21937315824192308 -0.071555055963025]\n",
            " [0.0 1.0 0.0 -0.3779644730092272 1.4881800734789927 -1.2604698319640515]\n",
            " [1.0 0.0 0.0 -0.3779644730092272 1.061291765548764 1.5136646453716769]\n",
            " [0.0 0.0 1.0 -0.3779644730092272 -0.21937315824192308 1.5136646453716769]\n",
            " [0.0 0.0 1.0 -0.3779644730092272 -0.6462614661721521 -0.071555055963025]]\n"
          ],
          "name": "stdout"
        }
      ]
    },
    {
      "cell_type": "code",
      "metadata": {
        "colab": {
          "base_uri": "https://localhost:8080/"
        },
        "id": "yGeKQ5nShAL0",
        "outputId": "9742ff03-a850-4c0a-8bba-e5e21caef67a"
      },
      "source": [
        "print(x_test)"
      ],
      "execution_count": 76,
      "outputs": [
        {
          "output_type": "stream",
          "text": [
            "[[0.0 0.0 0.0 2.6457513110645903 -1.073149774102381 0.3247498693706505]\n",
            " [0.0 1.0 0.0 -0.3779644730092272 -0.6462614661721521 0.721054794704326]]\n"
          ],
          "name": "stdout"
        }
      ]
    }
  ]
}